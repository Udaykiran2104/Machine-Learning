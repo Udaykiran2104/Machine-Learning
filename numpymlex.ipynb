{
 "cells": [
  {
   "cell_type": "code",
   "execution_count": 1,
   "id": "8793e852",
   "metadata": {},
   "outputs": [
    {
     "data": {
      "text/plain": [
       "array(['a', 'b', 'c'], dtype='<U1')"
      ]
     },
     "execution_count": 1,
     "metadata": {},
     "output_type": "execute_result"
    }
   ],
   "source": [
    "import numpy as np\n",
    "char_arr=np.array(['a','b','c'])\n",
    "char_arr"
   ]
  },
  {
   "cell_type": "code",
   "execution_count": 2,
   "id": "80d8ed75",
   "metadata": {},
   "outputs": [
    {
     "data": {
      "text/plain": [
       "array(['supervised', 'unsupervised', 'semi-supervised', 'reinforcement'],\n",
       "      dtype='<U15')"
      ]
     },
     "execution_count": 2,
     "metadata": {},
     "output_type": "execute_result"
    }
   ],
   "source": [
    "ch_arr2=np.array([\"Supervised\",\"unSupervised\",\"sEMi-supervised\",\"reinforcement\"])\n",
    "low_arr=np.char.lower(ch_arr2)\n",
    "low_arr"
   ]
  },
  {
   "cell_type": "code",
   "execution_count": 3,
   "id": "f7bba924",
   "metadata": {},
   "outputs": [
    {
     "data": {
      "text/plain": [
       "array(['supervised', 'unsupervised', 'semi supervised', 'reinforcement'],\n",
       "      dtype='<U15')"
      ]
     },
     "execution_count": 3,
     "metadata": {},
     "output_type": "execute_result"
    }
   ],
   "source": [
    "cleaned_arr=np.char.replace(low_arr,\"-\",\" \")\n",
    "cleaned_arr"
   ]
  },
  {
   "cell_type": "code",
   "execution_count": 4,
   "id": "35dce9e9",
   "metadata": {},
   "outputs": [
    {
     "data": {
      "text/plain": [
       "array([1, 2, 3])"
      ]
     },
     "execution_count": 4,
     "metadata": {},
     "output_type": "execute_result"
    }
   ],
   "source": [
    "array1=np.array([1,2,3])\n",
    "array1"
   ]
  },
  {
   "cell_type": "code",
   "execution_count": 5,
   "id": "5d54e47d",
   "metadata": {},
   "outputs": [
    {
     "data": {
      "text/plain": [
       "dtype('int32')"
      ]
     },
     "execution_count": 5,
     "metadata": {},
     "output_type": "execute_result"
    }
   ],
   "source": [
    "array1.dtype"
   ]
  },
  {
   "cell_type": "code",
   "execution_count": 6,
   "id": "2dbecfa7",
   "metadata": {},
   "outputs": [
    {
     "data": {
      "text/plain": [
       "dtype('<U1')"
      ]
     },
     "execution_count": 6,
     "metadata": {},
     "output_type": "execute_result"
    }
   ],
   "source": [
    "char_arr.dtype"
   ]
  },
  {
   "cell_type": "code",
   "execution_count": 7,
   "id": "7abc4cc9",
   "metadata": {},
   "outputs": [
    {
     "data": {
      "text/plain": [
       "dtype('<U15')"
      ]
     },
     "execution_count": 7,
     "metadata": {},
     "output_type": "execute_result"
    }
   ],
   "source": [
    "low_arr.dtype"
   ]
  },
  {
   "cell_type": "code",
   "execution_count": 9,
   "id": "f8537562",
   "metadata": {},
   "outputs": [
    {
     "data": {
      "text/plain": [
       "array([b'1', b'2', b'3', b'4', b'5'], dtype='|S1')"
      ]
     },
     "execution_count": 9,
     "metadata": {},
     "output_type": "execute_result"
    }
   ],
   "source": [
    "array8=np.array([1,2,3,4,5],dtype='S')\n",
    "array8"
   ]
  },
  {
   "cell_type": "code",
   "execution_count": 14,
   "id": "403ec65a",
   "metadata": {},
   "outputs": [
    {
     "data": {
      "text/plain": [
       "array([1., 2., 3., 4., 5.], dtype=float32)"
      ]
     },
     "execution_count": 14,
     "metadata": {},
     "output_type": "execute_result"
    }
   ],
   "source": [
    "array9=np.array([1,2,3,4,5],dtype='f')\n",
    "array9"
   ]
  },
  {
   "cell_type": "code",
   "execution_count": 11,
   "id": "bd815c06",
   "metadata": {},
   "outputs": [
    {
     "data": {
      "text/plain": [
       "array([1., 2., 3., 4., 5.], dtype=float32)"
      ]
     },
     "execution_count": 11,
     "metadata": {},
     "output_type": "execute_result"
    }
   ],
   "source": [
    "array2conv=array8.astype('f')\n",
    "array2conv"
   ]
  },
  {
   "cell_type": "code",
   "execution_count": 12,
   "id": "bddca147",
   "metadata": {},
   "outputs": [
    {
     "data": {
      "text/plain": [
       "array([1, 2, 3, 4, 5], dtype=int32)"
      ]
     },
     "execution_count": 12,
     "metadata": {},
     "output_type": "execute_result"
    }
   ],
   "source": [
    "array7conv=array2conv.astype('i')\n",
    "array7conv"
   ]
  },
  {
   "cell_type": "code",
   "execution_count": 15,
   "id": "44d05826",
   "metadata": {},
   "outputs": [
    {
     "ename": "ValueError",
     "evalue": "invalid literal for int() with base 10: 'a'",
     "output_type": "error",
     "traceback": [
      "\u001b[1;31m---------------------------------------------------------------------------\u001b[0m",
      "\u001b[1;31mValueError\u001b[0m                                Traceback (most recent call last)",
      "Cell \u001b[1;32mIn[15], line 1\u001b[0m\n\u001b[1;32m----> 1\u001b[0m char_conv\u001b[38;5;241m=\u001b[39mchar_arr\u001b[38;5;241m.\u001b[39mastype(\u001b[38;5;124m'\u001b[39m\u001b[38;5;124mi\u001b[39m\u001b[38;5;124m'\u001b[39m)\n\u001b[0;32m      2\u001b[0m char_conv\n",
      "\u001b[1;31mValueError\u001b[0m: invalid literal for int() with base 10: 'a'"
     ]
    }
   ],
   "source": [
    "char_conv=char_arr.astype('i')\n",
    "char_conv"
   ]
  },
  {
   "cell_type": "code",
   "execution_count": null,
   "id": "f5012fb0",
   "metadata": {},
   "outputs": [],
   "source": []
  },
  {
   "cell_type": "code",
   "execution_count": 17,
   "id": "345648dc",
   "metadata": {},
   "outputs": [
    {
     "data": {
      "text/plain": [
       "array([1., 1., 1.])"
      ]
     },
     "execution_count": 17,
     "metadata": {},
     "output_type": "execute_result"
    }
   ],
   "source": [
    "ars1=np.ones(3)\n",
    "ars1"
   ]
  },
  {
   "cell_type": "code",
   "execution_count": 19,
   "id": "3adfe4f1",
   "metadata": {},
   "outputs": [
    {
     "data": {
      "text/plain": [
       "array([0., 0., 0.])"
      ]
     },
     "execution_count": 19,
     "metadata": {},
     "output_type": "execute_result"
    }
   ],
   "source": [
    "ars2=np.zeros(3)\n",
    "ars2"
   ]
  },
  {
   "cell_type": "raw",
   "id": "3d1b3b92",
   "metadata": {},
   "source": []
  },
  {
   "cell_type": "code",
   "execution_count": 21,
   "id": "181a946b",
   "metadata": {},
   "outputs": [
    {
     "data": {
      "text/plain": [
       "array([0.13670156, 0.75095896, 0.42693051])"
      ]
     },
     "execution_count": 21,
     "metadata": {},
     "output_type": "execute_result"
    }
   ],
   "source": [
    "ars3=np.random.random(3)\n",
    "ars3"
   ]
  },
  {
   "cell_type": "code",
   "execution_count": 22,
   "id": "9df29c84",
   "metadata": {},
   "outputs": [
    {
     "data": {
      "text/plain": [
       "array([[1, 1],\n",
       "       [1, 1]])"
      ]
     },
     "execution_count": 22,
     "metadata": {},
     "output_type": "execute_result"
    }
   ],
   "source": [
    "numone=np.ones((2,2),dtype=int)\n",
    "numone"
   ]
  },
  {
   "cell_type": "code",
   "execution_count": 23,
   "id": "ddfb2bdf",
   "metadata": {},
   "outputs": [
    {
     "data": {
      "text/plain": [
       "array([[1., 1.],\n",
       "       [1., 1.],\n",
       "       [1., 1.]])"
      ]
     },
     "execution_count": 23,
     "metadata": {},
     "output_type": "execute_result"
    }
   ],
   "source": [
    "numsone=np.ones((3,2))\n",
    "numsone"
   ]
  },
  {
   "cell_type": "code",
   "execution_count": 24,
   "id": "b62e2dc7",
   "metadata": {},
   "outputs": [],
   "source": [
    "dimones=np.ones((4,3,2))"
   ]
  },
  {
   "cell_type": "code",
   "execution_count": 25,
   "id": "54d4c636",
   "metadata": {},
   "outputs": [
    {
     "data": {
      "text/plain": [
       "3"
      ]
     },
     "execution_count": 25,
     "metadata": {},
     "output_type": "execute_result"
    }
   ],
   "source": [
    "dimones.ndim"
   ]
  },
  {
   "cell_type": "code",
   "execution_count": 26,
   "id": "967afc7c",
   "metadata": {},
   "outputs": [
    {
     "name": "stdout",
     "output_type": "stream",
     "text": [
      "addition:\n",
      " [[ 6  8 10]\n",
      " [12 14 16]]\n"
     ]
    }
   ],
   "source": [
    "ar1=np.array([[1,2,3],[4,5,6]])\n",
    "ar2=np.array([[5,6,7],[8,9,10]])\n",
    "addition=ar1+ar2\n",
    "print(\"addition:\\n\",addition)"
   ]
  },
  {
   "cell_type": "code",
   "execution_count": 27,
   "id": "142f35b5",
   "metadata": {},
   "outputs": [
    {
     "name": "stdout",
     "output_type": "stream",
     "text": [
      "subtraction:\n",
      " [[-4 -4 -4]\n",
      " [-4 -4 -4]]\n"
     ]
    }
   ],
   "source": [
    "subtraction=ar1-ar2\n",
    "print(\"subtraction:\\n\",subtraction)"
   ]
  },
  {
   "cell_type": "code",
   "execution_count": 28,
   "id": "864b3b78",
   "metadata": {},
   "outputs": [
    {
     "name": "stdout",
     "output_type": "stream",
     "text": [
      "multiplication:\n",
      " [[ 5 12 21]\n",
      " [32 45 60]]\n"
     ]
    }
   ],
   "source": [
    "multiplication=ar1*ar2\n",
    "print(\"multiplication:\\n\",multiplication)"
   ]
  },
  {
   "cell_type": "code",
   "execution_count": 29,
   "id": "725e4786",
   "metadata": {},
   "outputs": [
    {
     "name": "stdout",
     "output_type": "stream",
     "text": [
      "division:\n",
      " [[0.2        0.33333333 0.42857143]\n",
      " [0.5        0.55555556 0.6       ]]\n"
     ]
    }
   ],
   "source": [
    "division=ar1/ar2\n",
    "print(\"division:\\n\",division)"
   ]
  },
  {
   "cell_type": "code",
   "execution_count": null,
   "id": "56cb10d0",
   "metadata": {},
   "outputs": [],
   "source": []
  },
  {
   "cell_type": "code",
   "execution_count": 30,
   "id": "f2e75fe4",
   "metadata": {},
   "outputs": [
    {
     "name": "stdout",
     "output_type": "stream",
     "text": [
      "power:\n",
      " [[       1       64     2187]\n",
      " [   65536  1953125 60466176]]\n"
     ]
    }
   ],
   "source": [
    "power=np.power(ar1,ar2)\n",
    "print(\"power:\\n\",power)"
   ]
  },
  {
   "cell_type": "code",
   "execution_count": 31,
   "id": "bbb071bd",
   "metadata": {},
   "outputs": [
    {
     "data": {
      "text/plain": [
       "array([[11, 22, 25],\n",
       "       [14, 25, 28]])"
      ]
     },
     "execution_count": 31,
     "metadata": {},
     "output_type": "execute_result"
    }
   ],
   "source": [
    "array2d=np.array([[1,2,3],[4,5,6]])\n",
    "array1d=np.array([10,20,22])\n",
    "result=array2d+array1d\n",
    "result"
   ]
  },
  {
   "cell_type": "code",
   "execution_count": 32,
   "id": "09682a0c",
   "metadata": {},
   "outputs": [
    {
     "data": {
      "text/plain": [
       "array([0, 3, 6, 9])"
      ]
     },
     "execution_count": 32,
     "metadata": {},
     "output_type": "execute_result"
    }
   ],
   "source": [
    "range_array=np.arange(0,10,3)\n",
    "range_array"
   ]
  },
  {
   "cell_type": "code",
   "execution_count": 33,
   "id": "0ef6589d",
   "metadata": {},
   "outputs": [
    {
     "data": {
      "text/plain": [
       "array([0, 0, 0, 0, 0])"
      ]
     },
     "execution_count": 33,
     "metadata": {},
     "output_type": "execute_result"
    }
   ],
   "source": [
    "a=np.random.randint(low=1,size=5)\n",
    "a"
   ]
  },
  {
   "cell_type": "code",
   "execution_count": 34,
   "id": "47d2fa4b",
   "metadata": {},
   "outputs": [
    {
     "data": {
      "text/plain": [
       "array([[5, 2, 2],\n",
       "       [4, 5, 3]])"
      ]
     },
     "execution_count": 34,
     "metadata": {},
     "output_type": "execute_result"
    }
   ],
   "source": [
    "b=np.random.randint(low=1,high=6,size=(2,3))\n",
    "b"
   ]
  },
  {
   "cell_type": "code",
   "execution_count": 35,
   "id": "7cdb4bc6",
   "metadata": {},
   "outputs": [
    {
     "data": {
      "text/plain": [
       "array([[ 1,  2,  3],\n",
       "       [ 4,  5,  6],\n",
       "       [ 5,  6,  7],\n",
       "       [ 8,  9, 10]])"
      ]
     },
     "execution_count": 35,
     "metadata": {},
     "output_type": "execute_result"
    }
   ],
   "source": [
    "np.concatenate([ar1,ar2])"
   ]
  },
  {
   "cell_type": "code",
   "execution_count": 36,
   "id": "1d5995dd",
   "metadata": {},
   "outputs": [
    {
     "data": {
      "text/plain": [
       "array([1, 2, 3, 4, 5, 6])"
      ]
     },
     "execution_count": 36,
     "metadata": {},
     "output_type": "execute_result"
    }
   ],
   "source": [
    "flatarr=ar1.flatten()\n",
    "flatarr"
   ]
  },
  {
   "cell_type": "code",
   "execution_count": 37,
   "id": "8f39d9d7",
   "metadata": {},
   "outputs": [
    {
     "data": {
      "text/plain": [
       "array([[1., 0.],\n",
       "       [0., 1.]])"
      ]
     },
     "execution_count": 37,
     "metadata": {},
     "output_type": "execute_result"
    }
   ],
   "source": [
    "np.eye(2)"
   ]
  },
  {
   "cell_type": "code",
   "execution_count": 38,
   "id": "42c34fab",
   "metadata": {},
   "outputs": [
    {
     "name": "stdout",
     "output_type": "stream",
     "text": [
      "Number of array dimensions.\n",
      "\n",
      "Examples\n",
      "--------\n",
      ">>> x = np.array([1, 2, 3])\n",
      ">>> x.ndim\n",
      "1\n",
      ">>> y = np.zeros((2, 3, 4))\n",
      ">>> y.ndim\n",
      "3\n"
     ]
    }
   ],
   "source": [
    "np.info(np.ndarray.ndim)"
   ]
  },
  {
   "cell_type": "code",
   "execution_count": null,
   "id": "7f4ad576",
   "metadata": {},
   "outputs": [],
   "source": []
  }
 ],
 "metadata": {
  "kernelspec": {
   "display_name": "Python 3 (ipykernel)",
   "language": "python",
   "name": "python3"
  },
  "language_info": {
   "codemirror_mode": {
    "name": "ipython",
    "version": 3
   },
   "file_extension": ".py",
   "mimetype": "text/x-python",
   "name": "python",
   "nbconvert_exporter": "python",
   "pygments_lexer": "ipython3",
   "version": "3.11.5"
  }
 },
 "nbformat": 4,
 "nbformat_minor": 5
}
